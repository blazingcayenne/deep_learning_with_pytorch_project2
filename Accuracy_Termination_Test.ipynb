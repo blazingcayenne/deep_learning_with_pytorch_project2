{
 "cells": [
  {
   "cell_type": "code",
   "execution_count": 2,
   "metadata": {},
   "outputs": [
    {
     "name": "stdout",
     "output_type": "stream",
     "text": [
      "step: 0, current_accuracy: 41.5, smoothed_accuracy: 41.5\n",
      "step: 1, current_accuracy: 47.8, smoothed_accuracy: 42.13\n",
      "step: 2, current_accuracy: 50.8, smoothed_accuracy: 42.997\n",
      "step: 3, current_accuracy: 53.2, smoothed_accuracy: 44.0173\n",
      "step: 4, current_accuracy: 53.3, smoothed_accuracy: 44.94557\n",
      "step: 5, current_accuracy: 53.3, smoothed_accuracy: 45.781012999999994\n",
      "step: 6, current_accuracy: 54.5, smoothed_accuracy: 46.6529117\n",
      "step: 7, current_accuracy: 54.9, smoothed_accuracy: 47.47762053\n",
      "step: 8, current_accuracy: 54.4, smoothed_accuracy: 48.169858477\n",
      "step: 9, current_accuracy: 54.2, smoothed_accuracy: 48.772872629300004\n",
      "step: 10, current_accuracy: 55.3, smoothed_accuracy: 49.42558536637001\n",
      "step: 11, current_accuracy: 55.0, smoothed_accuracy: 49.98302682973301\n",
      "step: 12, current_accuracy: 56.1, smoothed_accuracy: 50.59472414675971\n",
      "step: 13, current_accuracy: 55.0, smoothed_accuracy: 51.035251732083736\n",
      "step: 14, current_accuracy: 55.8, smoothed_accuracy: 51.51172655887536\n",
      "step: 15, current_accuracy: 56.9, smoothed_accuracy: 52.05055390298782\n",
      "step: 16, current_accuracy: 55.9, smoothed_accuracy: 52.43549851268904\n",
      "step: 17, current_accuracy: 55.8, smoothed_accuracy: 52.77194866142013\n",
      "step: 18, current_accuracy: 56.9, smoothed_accuracy: 53.18475379527812\n",
      "step: 19, current_accuracy: 54.1, smoothed_accuracy: 53.27627841575031\n",
      "step: 20, current_accuracy: 56.5, smoothed_accuracy: 53.59865057417528\n",
      "step: 21, current_accuracy: 57.0, smoothed_accuracy: 53.938785516757754\n",
      "step: 22, current_accuracy: 57.9, smoothed_accuracy: 54.33490696508198\n",
      "step: 23, current_accuracy: 56.6, smoothed_accuracy: 54.56141626857378\n",
      "step: 24, current_accuracy: 56.7, smoothed_accuracy: 54.77527464171641\n",
      "step: 25, current_accuracy: 56.3, smoothed_accuracy: 54.927747177544774\n",
      "step: 26, current_accuracy: 56.7, smoothed_accuracy: 55.1049724597903\n",
      "step: 27, current_accuracy: 55.3, smoothed_accuracy: 55.124475213811266\n",
      "step: 28, current_accuracy: 56.7, smoothed_accuracy: 55.28202769243014\n",
      "step: 29, current_accuracy: 56.9, smoothed_accuracy: 55.44382492318712\n",
      "step: 30, current_accuracy: 56.7, smoothed_accuracy: 55.56944243086841\n",
      "step: 31, current_accuracy: 56.8, smoothed_accuracy: 55.692498187781574\n",
      "step: 32, current_accuracy: 56.8, smoothed_accuracy: 55.80324836900342\n",
      "step: 33, current_accuracy: 56.8, smoothed_accuracy: 55.90292353210308\n",
      "step: 34, current_accuracy: 56.2, smoothed_accuracy: 55.93263117889278\n",
      "step: 35, current_accuracy: 56.2, smoothed_accuracy: 55.9593680610035\n",
      "step: 36, current_accuracy: 57.5, smoothed_accuracy: 56.113431254903155\n",
      "step: 37, current_accuracy: 57.0, smoothed_accuracy: 56.20208812941284\n",
      "step: 38, current_accuracy: 56.8, smoothed_accuracy: 56.26187931647156\n",
      "step: 39, current_accuracy: 56.1, smoothed_accuracy: 56.245691384824404\n",
      "step: 40, current_accuracy: 57.2, smoothed_accuracy: 56.34112224634196\n",
      "step: 41, current_accuracy: 56.5, smoothed_accuracy: 56.357010021707765\n",
      "step: 42, current_accuracy: 57.6, smoothed_accuracy: 56.48130901953699\n",
      "step: 43, current_accuracy: 57.0, smoothed_accuracy: 56.53317811758329\n",
      "step: 44, current_accuracy: 57.1, smoothed_accuracy: 56.58986030582496\n",
      "step: 45, current_accuracy: 57.9, smoothed_accuracy: 56.720874275242466\n",
      "step: 46, current_accuracy: 57.5, smoothed_accuracy: 56.79878684771822\n",
      "step: 47, current_accuracy: 57.1, smoothed_accuracy: 56.8289081629464\n",
      "step: 48, current_accuracy: 56.6, smoothed_accuracy: 56.80601734665176\n",
      "step: 49, current_accuracy: 57.8, smoothed_accuracy: 56.905415611986584\n",
      "step: 50, current_accuracy: 57.2, smoothed_accuracy: 56.934874050787926\n",
      "step: 51, current_accuracy: 56.3, smoothed_accuracy: 56.87138664570914\n",
      "step: 52, current_accuracy: 58.0, smoothed_accuracy: 56.984247981138225\n",
      "step: 53, current_accuracy: 56.2, smoothed_accuracy: 56.90582318302441\n",
      "step: 54, current_accuracy: 57.2, smoothed_accuracy: 56.93524086472197\n",
      "step: 55, current_accuracy: 58.2, smoothed_accuracy: 57.061716778249775\n",
      "step: 56, current_accuracy: 56.4, smoothed_accuracy: 56.9955451004248\n",
      "step: 57, current_accuracy: 55.9, smoothed_accuracy: 56.88599059038232\n",
      "step: 58, current_accuracy: 55.6, smoothed_accuracy: 56.75739153134409\n",
      "step: 59, current_accuracy: 56.7, smoothed_accuracy: 56.751652378209684\n",
      "step: 60, current_accuracy: 57.1, smoothed_accuracy: 56.786487140388715\n",
      "step: 61, current_accuracy: 56.9, smoothed_accuracy: 56.79783842634984\n",
      "step: 62, current_accuracy: 56.2, smoothed_accuracy: 56.738054583714856\n"
     ]
    }
   ],
   "source": [
    "stop_acc_epochs = 30\n",
    "stop_acc_ema_alpha = 0.1\n",
    "stop_acc_threshold = 1.0\n",
    "smoothed_accuracy_history = []\n",
    "\n",
    "for step, current_accuracy in enumerate([41.5, 47.8, 50.8, 53.2, 53.3, 53.3, 54.5, 54.9, 54.4, 54.2, 55.3, 55.0, 56.1, 55.0, 55.8, 56.9, 55.9, 55.8, 56.9, 54.1, 56.5, 57.0, 57.9, 56.6, 56.7, 56.3, 56.7, 55.3, 56.7, 56.9, 56.7, 56.8, 56.8, 56.8, 56.2, 56.2, 57.5, 57.0, 56.8, 56.1, 57.2, 56.5, 57.6, 57.0, 57.1, 57.9, 57.5, 57.1, 56.6, 57.8, 57.2, 56.3, 58.0, 56.2, 57.2, 58.2, 56.4, 55.9, 55.6, 56.7, 57.1, 56.9, 56.2, 56.1, 55.8, 57.5, 56.1, 57.2, 57.3, 56.0, 56.8, 58.4, 57.8, 56.0, 56.8, 57.0, 56.3, 58.0, 57.2, 56.9, 57.8, 56.5, 55.5, 57.9, 57.6, 57.4, 55.9, 56.2, 57.4, 56.5, 57.5, 57.9, 55.8, 58.0, 57.7, 57.2, 56.8, 56.7, 57.0, 57.4, 55.8, 55.4, 56.8, 56.0, 56.1, 56.7, 57.1, 55.6, 57.4, 57.1, 55.1, 57.7, 58.4, 56.7, 56.7, 57.1, 56.5, 56.7, 57.3, 57.9, 57.8, 57.3, 57.0, 57.9, 57.3, 58.3, 57.2, 57.2, 56.8, 55.9, 57.2, 57.5, 58.4, 57.6, 57.4, 57.4, 57.7, 57.0, 57.7, 57.7, 57.5, 57.1, 58.4, 57.1, 57.4, 56.7, 57.2, 57.9, 57.6, 57.3, 58.9, 56.7, 57.5, 58.2, 57.9, 58.1, 58.4, 57.5, 57.2, 57.4, 57.4, 58.8, 58.1, 57.6, 58.0, 57.9, 57.3, 57.6, 57.8, 58.1, 58.5, 57.7, 57.7, 58.1, 57.8, 58.2, 58.1, 57.7, 57.2, 57.4, 57.6, 57.7, 57.5, 58.1, 57.5, 57.9, 57.6, 58.2, 58.5, 57.8, 57.8, 57.6, 58.6, 57.7, 57.9, 57.4, 57.3, 58.0, 57.8, 57.5, 57.6, 57.8, 57.6, 58.0, 57.2, 57.5, 58.0, 57.7, 57.5, 58.0, 57.2, 56.9, 57.5, 57.8, 57.2, 57.8, 58.1, 57.9, 57.7, 58.0, 57.9, 57.5, 58.1, 56.9, 57.6, 57.7, 57.8, 56.9, 58.0, 57.0, 57.4, 57.5, 57.4, 57.4, 57.6, 58.5, 57.3, 58.0, 58.0, 57.8, 57.2]):\n",
    "    \n",
    "    # if enabled, terminate training loop after specified number of epochs without\n",
    "    # significant increase in (smoothed) accuracy\n",
    "    if stop_acc_epochs > 0:\n",
    "\n",
    "        # compute smoothed accuracy\n",
    "        if (len(smoothed_accuracy_history) == 0):\n",
    "            smoothed_accuracy = current_accuracy    \n",
    "        else:\n",
    "            smoothed_accuracy = stop_acc_ema_alpha * current_accuracy + \\\n",
    "                (1 - stop_acc_ema_alpha) * smoothed_accuracy_history[-1]\n",
    "\n",
    "        print(f\"step: {step}, current_accuracy: {current_accuracy}, smoothed_accuracy: {smoothed_accuracy}\")    \n",
    "            \n",
    "        # check accuracy progress\n",
    "        if (len(smoothed_accuracy_history) >= stop_acc_epochs):\n",
    "            delta_accuracy = smoothed_accuracy - smoothed_accuracy_history[-stop_acc_epochs]\n",
    "            if delta_accuracy <= stop_acc_threshold:\n",
    "                break;\n",
    "\n",
    "        # store smoothed accuracy\n",
    "        smoothed_accuracy_history.append(smoothed_accuracy)\n"
   ]
  },
  {
   "cell_type": "code",
   "execution_count": 4,
   "metadata": {},
   "outputs": [
    {
     "name": "stdout",
     "output_type": "stream",
     "text": [
      "<class 'tuple'>\n",
      "(1,)\n"
     ]
    }
   ],
   "source": [
    "topk=(1, )\n",
    "print(type(topk))\n",
    "print(topk)"
   ]
  },
  {
   "cell_type": "code",
   "execution_count": null,
   "metadata": {},
   "outputs": [],
   "source": []
  }
 ],
 "metadata": {
  "kernelspec": {
   "display_name": "Python 3",
   "language": "python",
   "name": "python3"
  },
  "language_info": {
   "codemirror_mode": {
    "name": "ipython",
    "version": 3
   },
   "file_extension": ".py",
   "mimetype": "text/x-python",
   "name": "python",
   "nbconvert_exporter": "python",
   "pygments_lexer": "ipython3",
   "version": "3.7.7"
  }
 },
 "nbformat": 4,
 "nbformat_minor": 4
}
